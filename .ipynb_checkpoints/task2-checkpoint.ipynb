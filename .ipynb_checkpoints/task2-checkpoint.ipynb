{
 "cells": [
  {
   "cell_type": "code",
   "execution_count": 2,
   "id": "e42aead9",
   "metadata": {},
   "outputs": [],
   "source": [
    "#This dataset attributes first names to genders, giving counts and probabilities. It combines open-source government data from the US, UK, Canada, and Australia.\n",
    "import pandas as pd\n",
    "data1=pd.read_csv(\"name_gender_dataset.csv\")\n",
    "data2=pd.read_csv(\"world_name.csv\")"
   ]
  },
  {
   "cell_type": "code",
   "execution_count": null,
   "id": "41c83375",
   "metadata": {},
   "outputs": [],
   "source": [
    "data1_100F=data1[data1[\"Gender\"]==(\"F\")][\"Name\"].head(100)\n",
    "data1_100M=data1[data1[\"Gender\"]==(\"M\")][\"Name\"].head(100)\n",
    "data2_100F=data2[data2[\"F First names\"]]\n",
    "data2_100m=data2[data2[\"M First names\"]]"
   ]
  }
 ],
 "metadata": {
  "kernelspec": {
   "display_name": "Python 3 (ipykernel)",
   "language": "python",
   "name": "python3"
  },
  "language_info": {
   "codemirror_mode": {
    "name": "ipython",
    "version": 3
   },
   "file_extension": ".py",
   "mimetype": "text/x-python",
   "name": "python",
   "nbconvert_exporter": "python",
   "pygments_lexer": "ipython3",
   "version": "3.9.13"
  }
 },
 "nbformat": 4,
 "nbformat_minor": 5
}
