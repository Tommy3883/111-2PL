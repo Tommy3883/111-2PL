{
 "cells": [
  {
   "cell_type": "code",
   "execution_count": 1,
   "id": "b4de4521",
   "metadata": {},
   "outputs": [],
   "source": [
    "import re"
   ]
  },
  {
   "cell_type": "code",
   "execution_count": 7,
   "id": "91a89b2c",
   "metadata": {},
   "outputs": [],
   "source": [
    "with open(\"0330.txt\",\"r\",encoding=\"utf-8\") as f:\n",
    "    data=f.read()"
   ]
  },
  {
   "cell_type": "code",
   "execution_count": 10,
   "id": "7f755944",
   "metadata": {},
   "outputs": [],
   "source": [
    "#將單字拆開\n",
    "remove1=re.split(\"\\s\",data)\n",
    "#remove1"
   ]
  },
  {
   "cell_type": "code",
   "execution_count": 12,
   "id": "6b8b2477",
   "metadata": {},
   "outputs": [
    {
     "data": {
      "text/plain": [
       "['2000',\n",
       " '2015',\n",
       " '2018',\n",
       " '2012',\n",
       " '2020',\n",
       " '2000',\n",
       " '1996',\n",
       " '2010',\n",
       " '2019',\n",
       " '2008',\n",
       " '2010',\n",
       " '2015',\n",
       " '2016',\n",
       " '2017',\n",
       " '2018']"
      ]
     },
     "execution_count": 12,
     "metadata": {},
     "output_type": "execute_result"
    }
   ],
   "source": [
    "#找年分\n",
    "year=re.findall(\"\\d{4}\",data)\n",
    "year"
   ]
  },
  {
   "cell_type": "code",
   "execution_count": 15,
   "id": "d53436cc",
   "metadata": {},
   "outputs": [
    {
     "data": {
      "text/plain": [
       "['“K-Pop Hub”',\n",
       " '“blow up”',\n",
       " '“hook songs”',\n",
       " '“I discovered GOT7 through my Instagram algorithm, which then led me to more K-pop content,”',\n",
       " '“There are so many accounts dedicated to K-pop, thanks to enthusiastic fans, that one is bound to show up in your feed one day. When you start taking interest, then your feed will explode due to the algorithm. So even if K-pop isn’t on Finland’s mainstream media, it’s very easy to get exposed to it when you’re scrolling down TikTok and stuff.”',\n",
       " '“TikTok-friendly.”',\n",
       " '“It’s super entertaining on so many levels,”',\n",
       " '“It’s so easy to become a fan because there’s so much material for you to potentially like. You can like the music, or maybe you don’t, but still can like the dance, how the members look, the jokes they make, the chemistry between members [...] You’re likely to find at least one of those aspects appealing.”',\n",
       " '“universal”',\n",
       " '“Korean culture is different enough to come across as interesting to foreigners,”',\n",
       " '“So K-pop has been much more open to accepting Western influences than let’s say, the Chinese music scene or even J-pop [Japanese pop]. The mix of Asian and Western gives K-pop a sense of balanced, inherent universality. It’s the same reason why Netflix makes so many Korean shows.”',\n",
       " '“get big”',\n",
       " '“Around the time K-pop started receiving attention in the West, the Korean economy saw quite dramatic growth,”',\n",
       " '“Between 2016 and 2017, Korea’s gross domestic product per capita surpassed the $30,000 mark, and the index has gone up further since then.”',\n",
       " '“Asia as a whole has seen rapid economic development, and as a result, Asian culture has also increased in importance,”',\n",
       " '“Although China and Japan still have larger economies, Korea has also significantly caught up over the years, laying the foundation for Korean pop culture to rise further as the leader in Asian cultures.”',\n",
       " '“K-pop seeing success in the U.S. market was a definitive milestone that made people — around the world and in Korea alike — recognize K-pop has ‘blown up,’”',\n",
       " '“For K-pop’s success in America, many factors luckily coincided. The Asian-American community had been growing larger and more influential. The U.S.-China trade war opened up opportunities for Korean companies to replace Chinese ones in the U.S., further spurring Korea’s economic growth and consequently, cultural influence.”',\n",
       " '“Of course, a country’s economic growth alone cannot explain the global popularity of its culture,”',\n",
       " '“K-pop had its inherent strengths all along, but because the rise was so dramatic, many people have been searching for an answer. It’s a question with no clear cut answer. Everyone is presenting their own theories, flabbergasted by the unprecedented phenomenon.”']"
      ]
     },
     "execution_count": 15,
     "metadata": {},
     "output_type": "execute_result"
    }
   ],
   "source": [
    "#找\"\"或''內的話\n",
    "\n",
    "quote=re.findall(r'[\"“].*?[\"”]',data)\n",
    "quote"
   ]
  },
  {
   "cell_type": "code",
   "execution_count": null,
   "id": "01b5b3c6",
   "metadata": {},
   "outputs": [],
   "source": []
  }
 ],
 "metadata": {
  "kernelspec": {
   "display_name": "Python 3 (ipykernel)",
   "language": "python",
   "name": "python3"
  },
  "language_info": {
   "codemirror_mode": {
    "name": "ipython",
    "version": 3
   },
   "file_extension": ".py",
   "mimetype": "text/x-python",
   "name": "python",
   "nbconvert_exporter": "python",
   "pygments_lexer": "ipython3",
   "version": "3.9.13"
  }
 },
 "nbformat": 4,
 "nbformat_minor": 5
}
