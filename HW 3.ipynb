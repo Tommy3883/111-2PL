{
 "cells": [
  {
   "cell_type": "code",
   "execution_count": 200,
   "id": "13496acb",
   "metadata": {},
   "outputs": [
    {
     "name": "stdout",
     "output_type": "stream",
     "text": [
      "請求成功：200\n"
     ]
    }
   ],
   "source": [
    "import requests \n",
    "import json\n",
    "import csv\n",
    "import time\n",
    "from time import sleep\n",
    "import pandas as pd\n",
    "import re\n",
    "from bs4 import BeautifulSoup\n",
    "headers={\n",
    "    \"User-Agent\":\"Mozilla/5.0 (Windows NT 10.0; Win64; x64) AppleWebKit/537.36 (KHTML, like Gecko) Chrome/112.0.0.0 Safari/537.36\"\n",
    "}\n",
    "r = requests.get(\"https://www.gamer.com.tw/\", headers=headers)\n",
    "if r.status_code == 200:\n",
    "    print(f'請求成功：{r.status_code}')\n",
    "else:\n",
    "    print(f'請求失敗：{r.status_code}')\n"
   ]
  },
  {
   "cell_type": "code",
   "execution_count": 217,
   "id": "1bf578d3",
   "metadata": {
    "scrolled": true
   },
   "outputs": [
    {
     "data": {
      "text/plain": [
       "[<tr>\n",
       " <td align=\"middle\"><img height=\"10\" src=\"https://i2.bahamut.com.tw/index_w/new_icon1.gif\" width=\"12\"/></td>\n",
       " <td>哈啦板</td>\n",
       " <td align=\"right\">昨日人氣</td>\n",
       " </tr>,\n",
       " <tr>\n",
       " <td align=\"middle\" width=\"20\"><span>1</span></td>\n",
       " <td><p class=\"BA-cbox5B\"><a href=\"//forum.gamer.com.tw/A.php?bsn=36730\">原神</a></p></td>\n",
       " <td align=\"right\">387061</td>\n",
       " </tr>,\n",
       " <tr>\n",
       " <td align=\"middle\" width=\"20\"><span>2</span></td>\n",
       " <td><p class=\"BA-cbox5B\"><a href=\"//forum.gamer.com.tw/A.php?bsn=7650\">新楓之谷 </a></p></td>\n",
       " <td align=\"right\">312604</td>\n",
       " </tr>,\n",
       " <tr>\n",
       " <td align=\"middle\" width=\"20\"><span>3</span></td>\n",
       " <td><p class=\"BA-cbox5B\"><a href=\"//forum.gamer.com.tw/A.php?bsn=18966\">流亡黯道 Path of Exile</a></p></td>\n",
       " <td align=\"right\">281813</td>\n",
       " </tr>,\n",
       " <tr>\n",
       " <td align=\"middle\" width=\"20\"><span>4</span></td>\n",
       " <td><p class=\"BA-cbox5B\"><a href=\"//forum.gamer.com.tw/A.php?bsn=36390\">勝利女神：妮姬 </a></p></td>\n",
       " <td align=\"right\">255544</td>\n",
       " </tr>,\n",
       " <tr>\n",
       " <td align=\"middle\" width=\"20\"><span>5</span></td>\n",
       " <td><p class=\"BA-cbox5B\"><a href=\"//forum.gamer.com.tw/A.php?bsn=37657\">RO仙境傳說：愛如初見（Ragnarok ORIGIN） </a></p></td>\n",
       " <td align=\"right\">238010</td>\n",
       " </tr>,\n",
       " <tr>\n",
       " <td align=\"middle\" width=\"20\"><span>6</span></td>\n",
       " <td><p class=\"BA-cbox5B\"><a href=\"//forum.gamer.com.tw/A.php?bsn=23805\">神魔之塔</a></p></td>\n",
       " <td align=\"right\">236011</td>\n",
       " </tr>,\n",
       " <tr>\n",
       " <td align=\"middle\" width=\"20\"><span>7</span></td>\n",
       " <td><p class=\"BA-cbox5B\"><a href=\"//forum.gamer.com.tw/A.php?bsn=23772\">貓咪大戰爭（にゃんこ大戦争）</a></p></td>\n",
       " <td align=\"right\">179463</td>\n",
       " </tr>,\n",
       " <tr>\n",
       " <td align=\"middle\" width=\"20\"><span>8</span></td>\n",
       " <td><p class=\"BA-cbox5B\"><a href=\"//forum.gamer.com.tw/A.php?bsn=38898\">蔚藍檔案 </a></p></td>\n",
       " <td align=\"right\">161874</td>\n",
       " </tr>,\n",
       " <tr>\n",
       " <td align=\"middle\" width=\"20\"><span>9</span></td>\n",
       " <td><p class=\"BA-cbox5B\"><a href=\"//forum.gamer.com.tw/A.php?bsn=17532\">英雄聯盟 League of Legends </a></p></td>\n",
       " <td align=\"right\">150985</td>\n",
       " </tr>,\n",
       " <tr>\n",
       " <td align=\"middle\" width=\"20\"><span>10</span></td>\n",
       " <td><p class=\"BA-cbox5B\"><a href=\"//forum.gamer.com.tw/A.php?bsn=71751\">眾神派對 </a></p></td>\n",
       " <td align=\"right\">150220</td>\n",
       " </tr>,\n",
       " <tr>\n",
       " <td align=\"middle\"><img height=\"10\" src=\"https://i2.bahamut.com.tw/index_w/new_icon1.gif\" width=\"12\"/></td>\n",
       " <td>哈啦板</td>\n",
       " <td align=\"right\" style=\"white-space:nowrap;\">昨日人氣</td>\n",
       " </tr>,\n",
       " <tr>\n",
       " <td align=\"middle\" width=\"20\"><span>11</span></td>\n",
       " <td><p class=\"BA-cbox5B\"><a href=\"//forum.gamer.com.tw/A.php?bsn=37697\">緋染天空 Heaven Burns Red </a></p></td>\n",
       " <td align=\"right\">124040</td>\n",
       " </tr>,\n",
       " <tr>\n",
       " <td align=\"middle\" width=\"20\"><span>12</span></td>\n",
       " <td><p class=\"BA-cbox5B\"><a href=\"//forum.gamer.com.tw/A.php?bsn=25\">惡靈古堡</a></p></td>\n",
       " <td align=\"right\">122590</td>\n",
       " </tr>,\n",
       " <tr>\n",
       " <td align=\"middle\" width=\"20\"><span>13</span></td>\n",
       " <td><p class=\"BA-cbox5B\"><a href=\"//forum.gamer.com.tw/A.php?bsn=1647\">神奇寶貝（精靈寶可夢）系列 </a></p></td>\n",
       " <td align=\"right\">117538</td>\n",
       " </tr>,\n",
       " <tr>\n",
       " <td align=\"middle\" width=\"20\"><span>14</span></td>\n",
       " <td><p class=\"BA-cbox5B\"><a href=\"//forum.gamer.com.tw/A.php?bsn=27044\">阿爾比恩 Online </a></p></td>\n",
       " <td align=\"right\">111810</td>\n",
       " </tr>,\n",
       " <tr>\n",
       " <td align=\"middle\" width=\"20\"><span>15</span></td>\n",
       " <td><p class=\"BA-cbox5B\"><a href=\"//forum.gamer.com.tw/A.php?bsn=33651\">明日方舟 </a></p></td>\n",
       " <td align=\"right\">99773</td>\n",
       " </tr>,\n",
       " <tr>\n",
       " <td align=\"middle\" width=\"20\"><span>16</span></td>\n",
       " <td><p class=\"BA-cbox5B\"><a href=\"//forum.gamer.com.tw/A.php?bsn=19017\">黑色沙漠 BLACK DESERT </a></p></td>\n",
       " <td align=\"right\">95174</td>\n",
       " </tr>,\n",
       " <tr>\n",
       " <td align=\"middle\" width=\"20\"><span>17</span></td>\n",
       " <td><p class=\"BA-cbox5B\"><a href=\"//forum.gamer.com.tw/A.php?bsn=25052\">怪物彈珠</a></p></td>\n",
       " <td align=\"right\">87247</td>\n",
       " </tr>,\n",
       " <tr>\n",
       " <td align=\"middle\" width=\"20\"><span>18</span></td>\n",
       " <td><p class=\"BA-cbox5B\"><a href=\"//forum.gamer.com.tw/A.php?bsn=73165\">三國志幻想大陸</a></p></td>\n",
       " <td align=\"right\">86039</td>\n",
       " </tr>,\n",
       " <tr>\n",
       " <td align=\"middle\" width=\"20\"><span>19</span></td>\n",
       " <td><p class=\"BA-cbox5B\"><a href=\"//forum.gamer.com.tw/A.php?bsn=26742\">Fate/Grand Order </a></p></td>\n",
       " <td align=\"right\">83490</td>\n",
       " </tr>,\n",
       " <tr>\n",
       " <td align=\"middle\" width=\"20\"><span>20</span></td>\n",
       " <td><p class=\"BA-cbox5B\"><a href=\"//forum.gamer.com.tw/A.php?bsn=4212\">RO 仙境傳說 Online</a></p></td>\n",
       " <td align=\"right\">79378</td>\n",
       " </tr>]"
      ]
     },
     "execution_count": 217,
     "metadata": {},
     "output_type": "execute_result"
    }
   ],
   "source": [
    "#抓到熱門刊版們\n",
    "soup = BeautifulSoup(r.text, 'html.parser')\n",
    "\n",
    "#針對遊戲名稱、昨日人氣、連結網址三類來抓\n",
    "#game_names = []\n",
    "#yesterday_pop = []\n",
    "#urls = []\n",
    "\n",
    "#pop_board = soup.select(\"div\", {\"class\": \"index-halarank-block\"})\n",
    "#pop_board\n",
    "#game_item=pop_board.select(\"div\",{\"class\":\"index-halarank\"})\n",
    "#game_item\n",
    "\n",
    "pop_board = soup.select_one(\".index-halarank-block\")\n",
    "pop_board\n",
    "game_item=pop_board.select(\"tr\")\n",
    "\n",
    "len(game_item)\n",
    "game_item"
   ]
  },
  {
   "cell_type": "code",
   "execution_count": 218,
   "id": "9eedb6a2",
   "metadata": {},
   "outputs": [
    {
     "name": "stdout",
     "output_type": "stream",
     "text": [
      "原神\n",
      "新楓之谷 \n",
      "流亡黯道 Path of Exile\n",
      "勝利女神：妮姬 \n",
      "RO仙境傳說：愛如初見（Ragnarok ORIGIN） \n",
      "神魔之塔\n",
      "貓咪大戰爭（にゃんこ大戦争）\n",
      "蔚藍檔案 \n",
      "英雄聯盟 League of Legends \n",
      "眾神派對 \n",
      "緋染天空 Heaven Burns Red \n",
      "惡靈古堡\n",
      "神奇寶貝（精靈寶可夢）系列 \n",
      "阿爾比恩 Online \n",
      "明日方舟 \n",
      "黑色沙漠 BLACK DESERT \n",
      "怪物彈珠\n",
      "三國志幻想大陸\n",
      "Fate/Grand Order \n",
      "RO 仙境傳說 Online\n"
     ]
    }
   ],
   "source": [
    "#找名稱\n",
    "for i in game_item:\n",
    "    game_name = i.select('.BA-cbox5B > a')\n",
    "    if len(game_name) == 0:\n",
    "        pass\n",
    "    else:\n",
    "        print(game_name[0].string)\n",
    "\n",
    "#         print(game_name[0].find_all('a', href=True))"
   ]
  },
  {
   "cell_type": "code",
   "execution_count": 220,
   "id": "09de0164",
   "metadata": {},
   "outputs": [],
   "source": [
    "#把名稱存入csv檔中\n",
    "with open('hw3-1.csv', 'w', newline='', encoding='utf-8-sig') as csvfile:\n",
    "    fieldnames = ['名稱']\n",
    "    writer = csv.DictWriter(csvfile, fieldnames=fieldnames)\n",
    "\n",
    "    writer.writeheader()\n",
    "\n",
    "    for i in game_item:\n",
    "        game_name = i.select('.BA-cbox5B > a')\n",
    "        if len(game_name) == 0:\n",
    "            pass\n",
    "        else:\n",
    "            writer.writerow({'名稱': game_name[0].string})"
   ]
  },
  {
   "cell_type": "code",
   "execution_count": 212,
   "id": "22980bfc",
   "metadata": {},
   "outputs": [
    {
     "name": "stdout",
     "output_type": "stream",
     "text": [
      "https://forum.gamer.com.tw/A.php?bsn=36730\n",
      "https://forum.gamer.com.tw/A.php?bsn=7650\n",
      "https://forum.gamer.com.tw/A.php?bsn=18966\n",
      "https://forum.gamer.com.tw/A.php?bsn=36390\n",
      "https://forum.gamer.com.tw/A.php?bsn=37657\n",
      "https://forum.gamer.com.tw/A.php?bsn=23805\n",
      "https://forum.gamer.com.tw/A.php?bsn=23772\n",
      "https://forum.gamer.com.tw/A.php?bsn=38898\n",
      "https://forum.gamer.com.tw/A.php?bsn=17532\n",
      "https://forum.gamer.com.tw/A.php?bsn=71751\n",
      "https://forum.gamer.com.tw/A.php?bsn=37697\n",
      "https://forum.gamer.com.tw/A.php?bsn=25\n",
      "https://forum.gamer.com.tw/A.php?bsn=1647\n",
      "https://forum.gamer.com.tw/A.php?bsn=27044\n",
      "https://forum.gamer.com.tw/A.php?bsn=33651\n",
      "https://forum.gamer.com.tw/A.php?bsn=19017\n",
      "https://forum.gamer.com.tw/A.php?bsn=25052\n",
      "https://forum.gamer.com.tw/A.php?bsn=73165\n",
      "https://forum.gamer.com.tw/A.php?bsn=26742\n",
      "https://forum.gamer.com.tw/A.php?bsn=4212\n"
     ]
    }
   ],
   "source": [
    "#找刊版網址\n",
    "html=str(game_item)\n",
    "\n",
    "pattern = r'//forum\\.gamer\\.com\\.tw/A\\.php\\?bsn=\\d+'\n",
    "\n",
    "urls = re.findall(pattern, html)\n",
    "\n",
    "for url in urls:\n",
    "    full_url = re.sub(r'^//', 'https://', url)\n",
    "    print(full_url)"
   ]
  },
  {
   "cell_type": "code",
   "execution_count": 224,
   "id": "20b76b82",
   "metadata": {},
   "outputs": [],
   "source": [
    "#把刊版網址存入csv檔中\n",
    "urls = re.findall(pattern, html)\n",
    "with open('hw3-1.csv', 'w', newline='', encoding='utf-8-sig') as csvfile:\n",
    "    writer = csv.writer(csvfile)\n",
    "    writer.writerow(['刊版網址'])\n",
    "    for url in urls:\n",
    "        full_url = re.sub(r'^//', 'https://', url)\n",
    "        writer.writerow([full_url])"
   ]
  },
  {
   "cell_type": "code",
   "execution_count": 225,
   "id": "eaf43c63",
   "metadata": {},
   "outputs": [
    {
     "name": "stdout",
     "output_type": "stream",
     "text": [
      "387061\n",
      "312604\n",
      "281813\n",
      "255544\n",
      "238010\n",
      "236011\n",
      "179463\n",
      "161874\n",
      "150985\n",
      "150220\n",
      "124040\n",
      "122590\n",
      "117538\n",
      "111810\n",
      "99773\n",
      "95174\n",
      "87247\n",
      "86039\n",
      "83490\n",
      "79378\n"
     ]
    }
   ],
   "source": [
    "#找昨日人氣\n",
    "for i in game_item:\n",
    "    yesterday_pop = i.select_one('td:nth-of-type(3)').text\n",
    "    if (yesterday_pop) == \"昨日人氣\":\n",
    "        pass\n",
    "    else:\n",
    "        print(yesterday_pop)"
   ]
  },
  {
   "cell_type": "code",
   "execution_count": 228,
   "id": "d7800e41",
   "metadata": {},
   "outputs": [],
   "source": [
    "#把昨日人氣存入csv檔中\n",
    "with open('hw3-1.csv', 'w', newline='', encoding='utf-8-sig') as csvfile:\n",
    "    fieldnames = ['昨日人氣']\n",
    "    writer = csv.DictWriter(csvfile, fieldnames=fieldnames)\n",
    "\n",
    "    writer.writeheader()\n",
    "\n",
    "    for i in game_item:\n",
    "        yesterday_pop = i.select_one('td:nth-of-type(3)').text\n",
    "        if yesterday_pop == \"昨日人氣\":\n",
    "            pass\n",
    "        else:\n",
    "            writer.writerow({'昨日人氣': yesterday_pop})"
   ]
  },
  {
   "cell_type": "code",
   "execution_count": 230,
   "id": "cdc5a6cf",
   "metadata": {},
   "outputs": [],
   "source": [
    "#由於上方都只能覆蓋先前的資料，或是將w改成a放在資料末端，但這些不是我想要的形式，因此將它們合併起來，將相同的資料放置在一起\n",
    "#得到HW 3.csv檔案中有我爬到的資料們\n",
    "urls = re.findall(pattern, html)\n",
    "with open('HW 3.csv', 'w', newline='', encoding='utf-8-sig') as csvfile:\n",
    "    fieldnames = ['名稱','刊版網址','昨日人氣']\n",
    "    writer = csv.DictWriter(csvfile, fieldnames=fieldnames)\n",
    "\n",
    "    writer.writeheader()\n",
    "\n",
    "    for i in game_item:\n",
    "        game_name = i.select('.BA-cbox5B > a')\n",
    "        yesterday_pop = i.select_one('td:nth-of-type(3)').text\n",
    "        \n",
    "        if yesterday_pop == \"昨日人氣\":\n",
    "            pass\n",
    "        else:\n",
    "            full_url = re.sub(r'^//', 'https://', url)\n",
    "            writer.writerow({'名稱': game_name[0].string,'刊版網址':full_url,'昨日人氣': yesterday_pop})"
   ]
  },
  {
   "cell_type": "code",
   "execution_count": 235,
   "id": "44dee134",
   "metadata": {},
   "outputs": [
    {
     "data": {
      "text/html": [
       "<div>\n",
       "<style scoped>\n",
       "    .dataframe tbody tr th:only-of-type {\n",
       "        vertical-align: middle;\n",
       "    }\n",
       "\n",
       "    .dataframe tbody tr th {\n",
       "        vertical-align: top;\n",
       "    }\n",
       "\n",
       "    .dataframe thead th {\n",
       "        text-align: right;\n",
       "    }\n",
       "</style>\n",
       "<table border=\"1\" class=\"dataframe\">\n",
       "  <thead>\n",
       "    <tr style=\"text-align: right;\">\n",
       "      <th></th>\n",
       "      <th>刊版網址</th>\n",
       "      <th>昨日人氣</th>\n",
       "    </tr>\n",
       "    <tr>\n",
       "      <th>名稱</th>\n",
       "      <th></th>\n",
       "      <th></th>\n",
       "    </tr>\n",
       "  </thead>\n",
       "  <tbody>\n",
       "    <tr>\n",
       "      <th>原神</th>\n",
       "      <td>https://forum.gamer.com.tw/A.php?bsn=4212</td>\n",
       "      <td>387061</td>\n",
       "    </tr>\n",
       "    <tr>\n",
       "      <th>新楓之谷</th>\n",
       "      <td>https://forum.gamer.com.tw/A.php?bsn=4212</td>\n",
       "      <td>312604</td>\n",
       "    </tr>\n",
       "    <tr>\n",
       "      <th>流亡黯道 Path of Exile</th>\n",
       "      <td>https://forum.gamer.com.tw/A.php?bsn=4212</td>\n",
       "      <td>281813</td>\n",
       "    </tr>\n",
       "    <tr>\n",
       "      <th>勝利女神：妮姬</th>\n",
       "      <td>https://forum.gamer.com.tw/A.php?bsn=4212</td>\n",
       "      <td>255544</td>\n",
       "    </tr>\n",
       "    <tr>\n",
       "      <th>RO仙境傳說：愛如初見（Ragnarok ORIGIN）</th>\n",
       "      <td>https://forum.gamer.com.tw/A.php?bsn=4212</td>\n",
       "      <td>238010</td>\n",
       "    </tr>\n",
       "  </tbody>\n",
       "</table>\n",
       "</div>"
      ],
      "text/plain": [
       "                                                                    刊版網址  \\\n",
       "名稱                                                                         \n",
       "原神                             https://forum.gamer.com.tw/A.php?bsn=4212   \n",
       "新楓之谷                           https://forum.gamer.com.tw/A.php?bsn=4212   \n",
       "流亡黯道 Path of Exile             https://forum.gamer.com.tw/A.php?bsn=4212   \n",
       "勝利女神：妮姬                        https://forum.gamer.com.tw/A.php?bsn=4212   \n",
       "RO仙境傳說：愛如初見（Ragnarok ORIGIN）   https://forum.gamer.com.tw/A.php?bsn=4212   \n",
       "\n",
       "                                 昨日人氣  \n",
       "名稱                                     \n",
       "原神                             387061  \n",
       "新楓之谷                           312604  \n",
       "流亡黯道 Path of Exile             281813  \n",
       "勝利女神：妮姬                        255544  \n",
       "RO仙境傳說：愛如初見（Ragnarok ORIGIN）   238010  "
      ]
     },
     "execution_count": 235,
     "metadata": {},
     "output_type": "execute_result"
    }
   ],
   "source": [
    "#看看csv檔是否正確\n",
    "data_HW3csv = pd.read_csv(\"HW 3.csv\",index_col=0)\n",
    "data_HW3csv.head()"
   ]
  },
  {
   "cell_type": "code",
   "execution_count": 250,
   "id": "1f48a796",
   "metadata": {},
   "outputs": [],
   "source": [
    "# 讀取 CSV 檔案\n",
    "with open('HW 3.csv', newline='', encoding='utf-8-sig') as csvfile:\n",
    "    reader = csv.DictReader(csvfile)\n",
    "    rows = list(reader)\n",
    "\n",
    "# 寫成 JSON 檔案\n",
    "with open('HW 3.json', 'w', encoding='utf-8') as jsonfile:\n",
    "    json.dump(rows, jsonfile, ensure_ascii=False, indent=2)"
   ]
  },
  {
   "cell_type": "code",
   "execution_count": 274,
   "id": "649460b3",
   "metadata": {},
   "outputs": [
    {
     "data": {
      "text/plain": [
       "list"
      ]
     },
     "execution_count": 274,
     "metadata": {},
     "output_type": "execute_result"
    }
   ],
   "source": [
    "#展示json檔，資料正則化\n",
    "HW3json = open('HW 3.json',encoding=\"utf8\")\n",
    "\n",
    "data1_HW3json=json.load(HW3json)\n",
    "type(data1_HW3json)"
   ]
  },
  {
   "cell_type": "code",
   "execution_count": 275,
   "id": "22df5857",
   "metadata": {},
   "outputs": [
    {
     "data": {
      "text/plain": [
       "[{'名稱': '原神',\n",
       "  '刊版網址': 'https://forum.gamer.com.tw/A.php?bsn=4212',\n",
       "  '昨日人氣': '387061'},\n",
       " {'名稱': '新楓之谷 ',\n",
       "  '刊版網址': 'https://forum.gamer.com.tw/A.php?bsn=4212',\n",
       "  '昨日人氣': '312604'},\n",
       " {'名稱': '流亡黯道 Path of Exile',\n",
       "  '刊版網址': 'https://forum.gamer.com.tw/A.php?bsn=4212',\n",
       "  '昨日人氣': '281813'},\n",
       " {'名稱': '勝利女神：妮姬 ',\n",
       "  '刊版網址': 'https://forum.gamer.com.tw/A.php?bsn=4212',\n",
       "  '昨日人氣': '255544'},\n",
       " {'名稱': 'RO仙境傳說：愛如初見（Ragnarok ORIGIN） ',\n",
       "  '刊版網址': 'https://forum.gamer.com.tw/A.php?bsn=4212',\n",
       "  '昨日人氣': '238010'},\n",
       " {'名稱': '神魔之塔',\n",
       "  '刊版網址': 'https://forum.gamer.com.tw/A.php?bsn=4212',\n",
       "  '昨日人氣': '236011'},\n",
       " {'名稱': '貓咪大戰爭（にゃんこ大戦争）',\n",
       "  '刊版網址': 'https://forum.gamer.com.tw/A.php?bsn=4212',\n",
       "  '昨日人氣': '179463'},\n",
       " {'名稱': '蔚藍檔案 ',\n",
       "  '刊版網址': 'https://forum.gamer.com.tw/A.php?bsn=4212',\n",
       "  '昨日人氣': '161874'},\n",
       " {'名稱': '英雄聯盟 League of Legends ',\n",
       "  '刊版網址': 'https://forum.gamer.com.tw/A.php?bsn=4212',\n",
       "  '昨日人氣': '150985'},\n",
       " {'名稱': '眾神派對 ',\n",
       "  '刊版網址': 'https://forum.gamer.com.tw/A.php?bsn=4212',\n",
       "  '昨日人氣': '150220'},\n",
       " {'名稱': '緋染天空 Heaven Burns Red ',\n",
       "  '刊版網址': 'https://forum.gamer.com.tw/A.php?bsn=4212',\n",
       "  '昨日人氣': '124040'},\n",
       " {'名稱': '惡靈古堡',\n",
       "  '刊版網址': 'https://forum.gamer.com.tw/A.php?bsn=4212',\n",
       "  '昨日人氣': '122590'},\n",
       " {'名稱': '神奇寶貝（精靈寶可夢）系列 ',\n",
       "  '刊版網址': 'https://forum.gamer.com.tw/A.php?bsn=4212',\n",
       "  '昨日人氣': '117538'},\n",
       " {'名稱': '阿爾比恩 Online ',\n",
       "  '刊版網址': 'https://forum.gamer.com.tw/A.php?bsn=4212',\n",
       "  '昨日人氣': '111810'},\n",
       " {'名稱': '明日方舟 ',\n",
       "  '刊版網址': 'https://forum.gamer.com.tw/A.php?bsn=4212',\n",
       "  '昨日人氣': '99773'},\n",
       " {'名稱': '黑色沙漠 BLACK DESERT ',\n",
       "  '刊版網址': 'https://forum.gamer.com.tw/A.php?bsn=4212',\n",
       "  '昨日人氣': '95174'},\n",
       " {'名稱': '怪物彈珠',\n",
       "  '刊版網址': 'https://forum.gamer.com.tw/A.php?bsn=4212',\n",
       "  '昨日人氣': '87247'},\n",
       " {'名稱': '三國志幻想大陸',\n",
       "  '刊版網址': 'https://forum.gamer.com.tw/A.php?bsn=4212',\n",
       "  '昨日人氣': '86039'},\n",
       " {'名稱': 'Fate/Grand Order ',\n",
       "  '刊版網址': 'https://forum.gamer.com.tw/A.php?bsn=4212',\n",
       "  '昨日人氣': '83490'},\n",
       " {'名稱': 'RO 仙境傳說 Online',\n",
       "  '刊版網址': 'https://forum.gamer.com.tw/A.php?bsn=4212',\n",
       "  '昨日人氣': '79378'}]"
      ]
     },
     "execution_count": 275,
     "metadata": {},
     "output_type": "execute_result"
    }
   ],
   "source": [
    "data1_HW3json"
   ]
  },
  {
   "cell_type": "code",
   "execution_count": 279,
   "id": "6289153c",
   "metadata": {},
   "outputs": [
    {
     "data": {
      "text/plain": [
       "dict"
      ]
     },
     "execution_count": 279,
     "metadata": {},
     "output_type": "execute_result"
    }
   ],
   "source": [
    "#將json檔用成dict形式 \n",
    "with open('HW 3.json', encoding='utf-8') as f:\n",
    "    HW3json = json.load(f)\n",
    "\n",
    "data2_HW3json = {}\n",
    "for item in HW3json:\n",
    "    data2_HW3json[item['名稱']] = {'刊版網址': item['刊版網址'], '昨日人氣': item['昨日人氣']}\n",
    "    \n",
    "type(data2_HW3json)"
   ]
  },
  {
   "cell_type": "code",
   "execution_count": 280,
   "id": "8e295d22",
   "metadata": {},
   "outputs": [
    {
     "data": {
      "text/plain": [
       "dict_items([('原神', {'刊版網址': 'https://forum.gamer.com.tw/A.php?bsn=4212', '昨日人氣': '387061'}), ('新楓之谷 ', {'刊版網址': 'https://forum.gamer.com.tw/A.php?bsn=4212', '昨日人氣': '312604'}), ('流亡黯道 Path of Exile', {'刊版網址': 'https://forum.gamer.com.tw/A.php?bsn=4212', '昨日人氣': '281813'}), ('勝利女神：妮姬 ', {'刊版網址': 'https://forum.gamer.com.tw/A.php?bsn=4212', '昨日人氣': '255544'}), ('RO仙境傳說：愛如初見（Ragnarok ORIGIN） ', {'刊版網址': 'https://forum.gamer.com.tw/A.php?bsn=4212', '昨日人氣': '238010'}), ('神魔之塔', {'刊版網址': 'https://forum.gamer.com.tw/A.php?bsn=4212', '昨日人氣': '236011'}), ('貓咪大戰爭（にゃんこ大戦争）', {'刊版網址': 'https://forum.gamer.com.tw/A.php?bsn=4212', '昨日人氣': '179463'}), ('蔚藍檔案 ', {'刊版網址': 'https://forum.gamer.com.tw/A.php?bsn=4212', '昨日人氣': '161874'}), ('英雄聯盟 League of Legends ', {'刊版網址': 'https://forum.gamer.com.tw/A.php?bsn=4212', '昨日人氣': '150985'}), ('眾神派對 ', {'刊版網址': 'https://forum.gamer.com.tw/A.php?bsn=4212', '昨日人氣': '150220'}), ('緋染天空 Heaven Burns Red ', {'刊版網址': 'https://forum.gamer.com.tw/A.php?bsn=4212', '昨日人氣': '124040'}), ('惡靈古堡', {'刊版網址': 'https://forum.gamer.com.tw/A.php?bsn=4212', '昨日人氣': '122590'}), ('神奇寶貝（精靈寶可夢）系列 ', {'刊版網址': 'https://forum.gamer.com.tw/A.php?bsn=4212', '昨日人氣': '117538'}), ('阿爾比恩 Online ', {'刊版網址': 'https://forum.gamer.com.tw/A.php?bsn=4212', '昨日人氣': '111810'}), ('明日方舟 ', {'刊版網址': 'https://forum.gamer.com.tw/A.php?bsn=4212', '昨日人氣': '99773'}), ('黑色沙漠 BLACK DESERT ', {'刊版網址': 'https://forum.gamer.com.tw/A.php?bsn=4212', '昨日人氣': '95174'}), ('怪物彈珠', {'刊版網址': 'https://forum.gamer.com.tw/A.php?bsn=4212', '昨日人氣': '87247'}), ('三國志幻想大陸', {'刊版網址': 'https://forum.gamer.com.tw/A.php?bsn=4212', '昨日人氣': '86039'}), ('Fate/Grand Order ', {'刊版網址': 'https://forum.gamer.com.tw/A.php?bsn=4212', '昨日人氣': '83490'}), ('RO 仙境傳說 Online', {'刊版網址': 'https://forum.gamer.com.tw/A.php?bsn=4212', '昨日人氣': '79378'})])"
      ]
     },
     "execution_count": 280,
     "metadata": {},
     "output_type": "execute_result"
    }
   ],
   "source": [
    "data2_HW3json.items()"
   ]
  },
  {
   "cell_type": "code",
   "execution_count": null,
   "id": "a21f1ab5",
   "metadata": {},
   "outputs": [],
   "source": []
  }
 ],
 "metadata": {
  "kernelspec": {
   "display_name": "Python 3 (ipykernel)",
   "language": "python",
   "name": "python3"
  },
  "language_info": {
   "codemirror_mode": {
    "name": "ipython",
    "version": 3
   },
   "file_extension": ".py",
   "mimetype": "text/x-python",
   "name": "python",
   "nbconvert_exporter": "python",
   "pygments_lexer": "ipython3",
   "version": "3.9.13"
  }
 },
 "nbformat": 4,
 "nbformat_minor": 5
}
