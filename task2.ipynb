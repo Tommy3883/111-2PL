{
 "cells": [
  {
   "cell_type": "code",
   "execution_count": 2,
   "id": "e61ad343",
   "metadata": {},
   "outputs": [],
   "source": [
    "#This dataset attributes first names to genders, giving counts and probabilities. It combines open-source government data from the US, UK, Canada, and Australia.\n",
    "import pandas as pd\n",
    "data1=pd.read_csv(\"name_gender_dataset.csv\")\n",
    "data2=pd.read_csv(\"world_name.csv\")"
   ]
  },
  {
   "cell_type": "code",
   "execution_count": 8,
   "id": "8634e93c",
   "metadata": {},
   "outputs": [],
   "source": [
    "data1_100F=data1[data1[\"Gender\"]==(\"F\")][\"Name\"].head(100)\n",
    "data1_100M=data1[data1[\"Gender\"]==(\"M\")][\"Name\"].head(100)\n",
    "data2_100F=data2[\"F First names\"]\n",
    "data2_100M=data2[\"M First names\"]"
   ]
  },
  {
   "cell_type": "code",
   "execution_count": 9,
   "id": "febfaeff",
   "metadata": {},
   "outputs": [
    {
     "data": {
      "text/plain": [
       "{'Alice',\n",
       " 'Amanda',\n",
       " 'Amber',\n",
       " 'Amy',\n",
       " 'Andrea',\n",
       " 'Anna',\n",
       " 'Ashley',\n",
       " 'Charlotte',\n",
       " 'Elizabeth',\n",
       " 'Emily',\n",
       " 'Emma',\n",
       " 'Grace',\n",
       " 'Hannah',\n",
       " 'Jennifer',\n",
       " 'Jessica',\n",
       " 'Julia',\n",
       " 'Julie',\n",
       " 'Kelly',\n",
       " 'Laura',\n",
       " 'Lauren',\n",
       " 'Lisa',\n",
       " 'Madison',\n",
       " 'Maria',\n",
       " 'Marie',\n",
       " 'Mary',\n",
       " 'Megan',\n",
       " 'Melissa',\n",
       " 'Michelle',\n",
       " 'Natalie',\n",
       " 'Nicole',\n",
       " 'Olivia',\n",
       " 'Rachel',\n",
       " 'Rebecca',\n",
       " 'Samantha',\n",
       " 'Sara',\n",
       " 'Sarah',\n",
       " 'Stephanie',\n",
       " 'Tiffany',\n",
       " 'Victoria'}"
      ]
     },
     "execution_count": 9,
     "metadata": {},
     "output_type": "execute_result"
    }
   ],
   "source": [
    "#Q1 與另一筆資料比對，另一筆資料為全世界學生最常取的英文名字前100名，兩筆資料中最多人取的前100名的男生女生姓名中，是否有重複的\n",
    "s1=set(data1_100F)\n",
    "s2=set(data1_100M)\n",
    "s3=set(data2_100F)\n",
    "s4=set(data2_100M)\n",
    "s1&s3\n",
    "#以下為女姓生姓名相同的"
   ]
  },
  {
   "cell_type": "code",
   "execution_count": null,
   "id": "ccf1f28e",
   "metadata": {},
   "outputs": [],
   "source": [
    "s2&s3\n",
    "#以下為女姓生姓名相同的"
   ]
  }
 ],
 "metadata": {
  "kernelspec": {
   "display_name": "Python 3 (ipykernel)",
   "language": "python",
   "name": "python3"
  },
  "language_info": {
   "codemirror_mode": {
    "name": "ipython",
    "version": 3
   },
   "file_extension": ".py",
   "mimetype": "text/x-python",
   "name": "python",
   "nbconvert_exporter": "python",
   "pygments_lexer": "ipython3",
   "version": "3.9.13"
  }
 },
 "nbformat": 4,
 "nbformat_minor": 5
}
