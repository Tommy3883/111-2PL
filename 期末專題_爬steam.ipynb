{
 "cells": [
  {
   "cell_type": "code",
   "execution_count": 2,
   "id": "80d15439",
   "metadata": {},
   "outputs": [
    {
     "name": "stdout",
     "output_type": "stream",
     "text": [
      "請求成功：200\n"
     ]
    }
   ],
   "source": [
    "import requests \n",
    "import json\n",
    "import csv\n",
    "import time\n",
    "from time import sleep\n",
    "import pandas as pd\n",
    "import re\n",
    "from bs4 import BeautifulSoup\n",
    "\n",
    "# 設定 User-Agent\n",
    "\n",
    "headers = {\n",
    "    'cookie': 'over18=1', \n",
    "    'user-agent': 'Mozilla/5.0 (Windows NT 10.0; Win64; x64) AppleWebKit/537.36 (KHTML, like Gecko) Chrome/89.0.4389.82 Safari/537.36'\n",
    "}\n",
    "\n",
    "# 發送 GET 請求取得文章內容\n",
    "url = \"https://store.steampowered.com/app/454650/DRAGON_BALL_XENOVERSE_2/\"\n",
    "response = requests.get(url, headers=headers)\n",
    "soup = BeautifulSoup(response.text, \"html.parser\")\n",
    "\n",
    "if response.status_code == 200:\n",
    "    print(f'請求成功：{response.status_code}')\n",
    "else:\n",
    "    print(f'請求失敗：{response.status_code}')"
   ]
  },
  {
   "cell_type": "code",
   "execution_count": 8,
   "id": "060acc1b",
   "metadata": {},
   "outputs": [
    {
     "name": "stdout",
     "output_type": "stream",
     "text": [
      "Windows 7 and higher (64 bit only)\n",
      "Data saved to requirements.csv\n"
     ]
    }
   ],
   "source": [
    "# 發送GET請求並獲取頁面HTML\n",
    "html = response.content\n",
    "\n",
    "# 使用BeautifulSoup解析HTML\n",
    "soup = BeautifulSoup(html, 'html.parser')\n",
    "\n",
    "# 獲取所需的數據\n",
    "os = soup.find('div', {'class': 'game_area_sys_req_leftCol'}).find_all('ul')[0].find_all('li')[1].text.strip()\n",
    "os = os.split(':')[1].strip()\n",
    "processor = soup.find('div', {'class': 'game_area_sys_req_leftCol'}).find_all('ul')[0].find_all('li')[2].text.strip()\n",
    "processor = processor.split(':')[1].strip()\n",
    "memory = soup.find('div', {'class': 'game_area_sys_req_leftCol'}).find_all('ul')[0].find_all('li')[3].text.strip()\n",
    "memory = memory.split(':')[1].strip()\n",
    "graphics = soup.find('div', {'class': 'game_area_sys_req_leftCol'}).find_all('ul')[0].find_all('li')[4].text.strip()\n",
    "graphics = graphics.split(':')[1].strip()\n",
    "directx = soup.find('div', {'class': 'game_area_sys_req_leftCol'}).find_all('ul')[0].find_all('li')[5].text.strip()\n",
    "directx = directx.split(':')[1].strip()\n",
    "network = soup.find('div', {'class': 'game_area_sys_req_leftCol'}).find_all('ul')[0].find_all('li')[6].text.strip()\n",
    "network = network.split(':')[1].strip()\n",
    "\n",
    "print(os)\n",
    "\n",
    "# 創建數據框\n",
    "data = {\n",
    "    'Category': ['Operating System', 'Processor', 'Memory', 'Graphics', 'DirectX', 'Network'],\n",
    "    'Requirement': [os, processor, memory, graphics, directx, network]\n",
    "}\n",
    "df = pd.DataFrame(data)\n",
    "\n",
    "# 將數據框保存到CSV檔案\n",
    "df.to_csv('requirements.csv', index=False)\n",
    "\n",
    "print('Data saved to requirements.csv')"
   ]
  },
  {
   "cell_type": "code",
   "execution_count": null,
   "id": "8dc1e03b",
   "metadata": {},
   "outputs": [],
   "source": []
  }
 ],
 "metadata": {
  "kernelspec": {
   "display_name": "Python 3 (ipykernel)",
   "language": "python",
   "name": "python3"
  },
  "language_info": {
   "codemirror_mode": {
    "name": "ipython",
    "version": 3
   },
   "file_extension": ".py",
   "mimetype": "text/x-python",
   "name": "python",
   "nbconvert_exporter": "python",
   "pygments_lexer": "ipython3",
   "version": "3.9.13"
  }
 },
 "nbformat": 4,
 "nbformat_minor": 5
}
